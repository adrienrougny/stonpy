{
 "cells": [
  {
   "cell_type": "code",
   "execution_count": 1,
   "id": "929c4994",
   "metadata": {},
   "outputs": [],
   "source": [
    "import stonpy"
   ]
  },
  {
   "cell_type": "markdown",
   "id": "e9ea546e",
   "metadata": {},
   "source": [
    "We need an uri, a user name and a password to connect to the database:"
   ]
  },
  {
   "cell_type": "code",
   "execution_count": 2,
   "id": "869f7af2",
   "metadata": {},
   "outputs": [],
   "source": [
    "URI = \"<uri>\"\n",
    "USER = \"<username>\"\n",
    "PASSWORD = \"<password>\""
   ]
  },
  {
   "cell_type": "markdown",
   "id": "23685a87",
   "metadata": {},
   "source": [
    "All operations are performed using a STON object that connects to the Neo4j database:"
   ]
  },
  {
   "cell_type": "code",
   "execution_count": 3,
   "id": "d974d5b4",
   "metadata": {},
   "outputs": [],
   "source": [
    "ston = stonpy.STON(URI, USER, PASSWORD)"
   ]
  },
  {
   "cell_type": "markdown",
   "id": "c9156aa8",
   "metadata": {},
   "source": [
    "The graph handled by the STON object is accessed using the `graph` property:"
   ]
  },
  {
   "cell_type": "code",
   "execution_count": 4,
   "id": "b3999e28",
   "metadata": {},
   "outputs": [
    {
     "data": {
      "text/plain": [
       "Graph('bolt://localhost:7687')"
      ]
     },
     "execution_count": 4,
     "metadata": {},
     "output_type": "execute_result"
    }
   ],
   "source": [
    "ston.graph"
   ]
  },
  {
   "cell_type": "markdown",
   "id": "7bd705fe",
   "metadata": {},
   "source": [
    "It is an instance of a [py2neo graph](https://py2neo.org/2021.1/workflow.html#graphservice-objects). It can be used to delete all data from the database, for example:"
   ]
  },
  {
   "cell_type": "code",
   "execution_count": 5,
   "id": "47ef4d08",
   "metadata": {},
   "outputs": [],
   "source": [
    "ston.graph.delete_all()"
   ]
  },
  {
   "cell_type": "markdown",
   "id": "67afe503",
   "metadata": {},
   "source": [
    "The STON object allows user to:\n",
    "\n",
    "- add an SBGN map to the database\n",
    "- retreive an SBGN map from the database\n",
    "- delete an SBGN map from the database\n",
    "- query the database, transforming the query result into valid SBGN maps or SBGN-ML files"
   ]
  },
  {
   "cell_type": "code",
   "execution_count": 6,
   "id": "dc33e1b6",
   "metadata": {},
   "outputs": [],
   "source": [
    "sbgn_file = \"insulin.sbgn\""
   ]
  },
  {
   "cell_type": "markdown",
   "id": "8f836663",
   "metadata": {},
   "source": [
    "We add the map to the database with the `create_map` method:"
   ]
  },
  {
   "cell_type": "code",
   "execution_count": 7,
   "id": "48f7e8e9",
   "metadata": {},
   "outputs": [],
   "source": [
    "ston.create_map(sbgn_file, map_id=\"id1\")"
   ]
  },
  {
   "cell_type": "markdown",
   "id": "c1a9b722",
   "metadata": {},
   "source": [
    "We then check that the database contains the map we've just created with the `has_map` method:"
   ]
  },
  {
   "cell_type": "code",
   "execution_count": 8,
   "id": "786c8066",
   "metadata": {},
   "outputs": [],
   "source": [
    "assert ston.has_map(\"id1\") is True\n",
    "assert ston.has_map(sbgn_map=sbgn_file) is True\n",
    "assert ston.has_map(map_id=\"id1\", sbgn_map=sbgn_file) is True\n",
    "assert ston.has_map(map_id=\"id2\", sbgn_map=sbgn_file) is False"
   ]
  },
  {
   "cell_type": "markdown",
   "id": "d29ae233",
   "metadata": {},
   "source": [
    "We delete the map from the database with the `delete_map` method, and check that the map is no longer in the database:"
   ]
  },
  {
   "cell_type": "code",
   "execution_count": 9,
   "id": "7f755413",
   "metadata": {},
   "outputs": [],
   "source": [
    "ston.delete_map(\"id1\")\n",
    "assert ston.has_map(\"id1\") is False"
   ]
  },
  {
   "cell_type": "markdown",
   "id": "77f5d06e",
   "metadata": {},
   "source": [
    "We retreive the map from the database with the `get_map` method, after adding it *de novo*:"
   ]
  },
  {
   "cell_type": "code",
   "execution_count": 10,
   "id": "52454e85",
   "metadata": {},
   "outputs": [
    {
     "data": {
      "text/plain": [
       "(<libsbgnpy.libsbgn.map at 0x7f256d1b18d0>, 'id1')"
      ]
     },
     "execution_count": 10,
     "metadata": {},
     "output_type": "execute_result"
    }
   ],
   "source": [
    "ston.create_map(sbgn_file, map_id=\"id1\")\n",
    "sbgn_map = ston.get_map(\"id1\")\n",
    "sbgn_map # (<sbgn_map>, <id>)"
   ]
  },
  {
   "cell_type": "markdown",
   "id": "c1f8fa8f",
   "metadata": {},
   "source": [
    "We retreive the map and write it directly to an SBGN-ML file, using the `get_map_to_sbgn_file` method:"
   ]
  },
  {
   "cell_type": "code",
   "execution_count": 11,
   "id": "14d89e2a",
   "metadata": {},
   "outputs": [
    {
     "name": "stdout",
     "output_type": "stream",
     "text": [
      "<?xml version=\"1.0\" encoding=\"UTF-8\"?>\n",
      "<sbgn xmlns=\"http://sbgn.org/libsbgn/0.2\">\n",
      "    <map language=\"process description\">\n",
      "        <glyph class=\"macromolecule\" id=\"glyph14\" compartmentRef=\"glyph5\">\n",
      "            <label text=\"Grb2\"/>\n",
      "            <bbox w=\"108.0\" h=\"60.0\" x=\"721.0\" y=\"575.0\"/>\n",
      "        </glyph>\n",
      "        <glyph class=\"macromolecule\" id=\"glyph15\" compartmentRef=\"glyph5\">\n",
      "            <label text=\"c-Fos\"/>\n",
      "            <bbox w=\"108.0\" h=\"60.0\" x=\"1331.0\" y=\"1070.0\"/>\n",
      "\n"
     ]
    }
   ],
   "source": [
    "ston.get_map_to_sbgn_file(\"id1\", \"insulin_exported.sbgn\")\n",
    "with open(\"insulin_exported.sbgn\") as f:\n",
    "    print(\"\".join(f.readlines()[:10]))"
   ]
  },
  {
   "cell_type": "markdown",
   "id": "f36e62d5",
   "metadata": {},
   "source": [
    "The database can be queried using the `graph` property and [py2neo](https://py2neo.org/) functionalities.\n",
    "Here is a query that returns the each phosphorylation process node of the database:"
   ]
  },
  {
   "cell_type": "code",
   "execution_count": 12,
   "id": "cc3aa63d",
   "metadata": {},
   "outputs": [
    {
     "name": "stdout",
     "output_type": "stream",
     "text": [
      "Node('GenericProcess', 'Glyph', 'Process', 'StoichiometricProcess', class='process', clone=False, id='glyph38', orientation='horizontal')\n",
      "Node('GenericProcess', 'Glyph', 'Process', 'StoichiometricProcess', class='process', clone=False, id='glyph35', orientation='horizontal')\n",
      "Node('GenericProcess', 'Glyph', 'Process', 'StoichiometricProcess', class='process', clone=False, id='glyph36', orientation='horizontal')\n"
     ]
    }
   ],
   "source": [
    "# phosphorylation process\n",
    "query = '''MATCH (process)-[:CONSUMES]->(reactant),\n",
    "    (process)-[:PRODUCES]->(product),\n",
    "    (reactant)-[:HAS_STATE_VARIABLE]-(reactant_sv),\n",
    "    (product)-[:HAS_STATE_VARIABLE]-(product_sv)\n",
    "    WHERE reactant.label = product.label\n",
    "    AND reactant_sv.value IS NULL\n",
    "    AND product_sv.value = \"P\"\n",
    "    AND (product_sv.variable IS NULL\n",
    "        AND reactant_sv.variable IS NULL\n",
    "        AND product_sv.order = reactant_sv.order\n",
    "        OR product_sv.variable = reactant_sv.variable)\n",
    "    RETURN process;'''\n",
    "\n",
    "cursor = ston.graph.run(query)\n",
    "for record in cursor:\n",
    "    print(record)"
   ]
  },
  {
   "cell_type": "markdown",
   "id": "d3ce7854",
   "metadata": {},
   "source": [
    "The STON object embeds methods that allow users to query the database and directly transform the result into valid SBGN maps or SBGN-ML files.\n",
    "Rather than returning Neo4j nodes or relationships like in the example above, these methods complete each returned partial result (node(s) or relationship(s)) into one or more subgraphs that are then transformed into zero or more valid SBGN maps or SBGN-ML files.\n",
    "There are two distinct methods: `query_to_map`, that returns SBGN maps from a query, and `query_to_sbgn_file`, that returns SBGN-ML files.\n",
    "Each of these methods has a `merge_record` parameter, that changes the way the query results are merged before being completed.\n",
    "When `merge_records` is set to `False` (the default), records are not merged before being completed; when it is set to `True`, records are merged before being completed."
   ]
  },
  {
   "cell_type": "markdown",
   "id": "dbb95247",
   "metadata": {},
   "source": [
    "We query the database for each phosporylation process node and return SBGN maps, with `merge_records` set to `False`:"
   ]
  },
  {
   "cell_type": "code",
   "execution_count": 13,
   "id": "4f29f952",
   "metadata": {
    "scrolled": true
   },
   "outputs": [
    {
     "data": {
      "text/plain": [
       "<generator object STON.query_to_map at 0x7f25978e7c30>"
      ]
     },
     "execution_count": 13,
     "metadata": {},
     "output_type": "execute_result"
    }
   ],
   "source": [
    "sbgn_maps = ston.query_to_map(query, merge_records=False)\n",
    "sbgn_maps # a generator"
   ]
  },
  {
   "cell_type": "markdown",
   "id": "d88bc0fe",
   "metadata": {},
   "source": [
    "The query returns three distinct SBGN maps, one for each phosphroylation process found in the database:"
   ]
  },
  {
   "cell_type": "code",
   "execution_count": 14,
   "id": "fb34ef41",
   "metadata": {
    "scrolled": false
   },
   "outputs": [
    {
     "name": "stdout",
     "output_type": "stream",
     "text": [
      "(<libsbgnpy.libsbgn.map object at 0x7f256ce19e70>, 'id1')\n",
      "(<libsbgnpy.libsbgn.map object at 0x7f256ce29ae0>, 'id1')\n",
      "(<libsbgnpy.libsbgn.map object at 0x7f256ce18550>, 'id1')\n"
     ]
    }
   ],
   "source": [
    "for sbgn_map in sbgn_maps:\n",
    "    print(sbgn_map)"
   ]
  },
  {
   "cell_type": "markdown",
   "id": "a9ca6066",
   "metadata": {},
   "source": [
    "We perform the same query, but with `merge_records` set to `True`:"
   ]
  },
  {
   "cell_type": "code",
   "execution_count": 15,
   "id": "5b178d33",
   "metadata": {
    "scrolled": true
   },
   "outputs": [
    {
     "data": {
      "text/plain": [
       "<generator object STON.query_to_map at 0x7f25978e7450>"
      ]
     },
     "execution_count": 15,
     "metadata": {},
     "output_type": "execute_result"
    }
   ],
   "source": [
    "sbgn_maps = ston.query_to_map(query, merge_records=True)\n",
    "sbgn_maps # generator"
   ]
  },
  {
   "cell_type": "markdown",
   "id": "ca2c18f9",
   "metadata": {},
   "source": [
    "The query returns only one SBGN map, containing the three phosphorylation processes:"
   ]
  },
  {
   "cell_type": "code",
   "execution_count": 16,
   "id": "0d5725ac",
   "metadata": {
    "scrolled": true
   },
   "outputs": [
    {
     "name": "stdout",
     "output_type": "stream",
     "text": [
      "(<libsbgnpy.libsbgn.map object at 0x7f256d03b610>, 'id1')\n"
     ]
    }
   ],
   "source": [
    "for sbgn_map in sbgn_maps:\n",
    "    print(sbgn_map)"
   ]
  },
  {
   "cell_type": "markdown",
   "id": "043329ab",
   "metadata": {},
   "source": [
    "Results of queries can be directly written to SBGN-ML files using the `query_to_sbgn_file` method:"
   ]
  },
  {
   "cell_type": "code",
   "execution_count": 17,
   "id": "2db19399",
   "metadata": {},
   "outputs": [
    {
     "data": {
      "text/plain": [
       "['result_1.sbgn', 'result_2.sbgn', 'result_3.sbgn']"
      ]
     },
     "execution_count": 17,
     "metadata": {},
     "output_type": "execute_result"
    }
   ],
   "source": [
    "sbgn_files = ston.query_to_sbgn_file(query, \"result.sbgn\", merge_records=False)\n",
    "sbgn_files"
   ]
  },
  {
   "cell_type": "code",
   "execution_count": 18,
   "id": "5fdfbf0b",
   "metadata": {},
   "outputs": [
    {
     "data": {
      "text/plain": [
       "['result.sbgn']"
      ]
     },
     "execution_count": 18,
     "metadata": {},
     "output_type": "execute_result"
    }
   ],
   "source": [
    "sbgn_files = ston.query_to_sbgn_file(query, \"result.sbgn\", merge_records=True)\n",
    "sbgn_files"
   ]
  }
 ],
 "metadata": {
  "kernelspec": {
   "display_name": "pipenv",
   "language": "python",
   "name": "pipenv"
  },
  "language_info": {
   "codemirror_mode": {
    "name": "ipython",
    "version": 3
   },
   "file_extension": ".py",
   "mimetype": "text/x-python",
   "name": "python",
   "nbconvert_exporter": "python",
   "pygments_lexer": "ipython3",
   "version": "3.10.8"
  }
 },
 "nbformat": 4,
 "nbformat_minor": 5
}
